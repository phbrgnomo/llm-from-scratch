{
 "cells": [
  {
   "cell_type": "markdown",
   "metadata": {},
   "source": [
    "This code compares the performance of matrix multiplication using PyTorch on the GPU and NumPy on the CPU. It also measures the time taken to create a small tensor of zeros. The @ symbol is used for matrix multiplication in PyTorch. The timings help demonstrate the potential speedup gained by utilizing a GPU for certain operations."
   ]
  },
  {
   "cell_type": "code",
   "execution_count": 8,
   "metadata": {},
   "outputs": [
    {
     "name": "stdout",
     "output_type": "stream",
     "text": [
      "selected device: privateuseone:0\n"
     ]
    }
   ],
   "source": [
    "import torch\n",
    "import torch_directml\n",
    "import numpy as np\n",
    "import time\n",
    "\n",
    "# Check if a GPU (cuda) is available, otherwise use Directl ML, or CPU\n",
    "if torch.cuda.is_available():\n",
    "    device = 'cuda'\n",
    "elif torch_directml.is_available():\n",
    "    device = torch_directml.device()\n",
    "else:\n",
    "    device = 'cpu'\n",
    "\n",
    "# Print the selected device (either 'cuda' or 'cpu')\n",
    "print(f\"selected device: {device}\")\n",
    "\n",
    "\n"
   ]
  },
  {
   "cell_type": "code",
   "execution_count": 9,
   "metadata": {},
   "outputs": [
    {
     "name": "stdout",
     "output_type": "stream",
     "text": [
      "Elapsed Time: 0.0001366138\n",
      "CPU times: user 80 µs, sys: 198 µs, total: 278 µs\n",
      "Wall time: 226 µs\n"
     ]
    }
   ],
   "source": [
    "%%time\n",
    "# Measure the elapsed time to create a small tensor with zeros\n",
    "start_time = time.time()\n",
    "# Matrix operation: creating a tensor of zeros\n",
    "zeros = torch.zeros(1, 1)\n",
    "end_time = time.time()\n",
    "\n",
    "elapsed_time = end_time - start_time\n",
    "print(f\"Elapsed Time: {elapsed_time:.10f}\")\n",
    "\n"
   ]
  },
  {
   "cell_type": "code",
   "execution_count": 10,
   "metadata": {},
   "outputs": [],
   "source": [
    "# Create 2D tensors\n",
    "torch_rand1 = torch.rand(10000, 10000).to(device)\n",
    "torch_rand2 = torch.rand(10000, 10000).to(device)\n",
    "np_rand1 = torch.rand(10000, 10000)\n",
    "np_rand2 = torch.rand(10000, 10000)\n",
    "\n"
   ]
  },
  {
   "cell_type": "code",
   "execution_count": 11,
   "metadata": {},
   "outputs": [
    {
     "name": "stdout",
     "output_type": "stream",
     "text": [
      "Elapsed Time with GPU (torch): 0.0153822899\n",
      "CPU times: user 0 ns, sys: 19.7 ms, total: 19.7 ms\n",
      "Wall time: 15.5 ms\n"
     ]
    }
   ],
   "source": [
    "%%time\n",
    "# Measure the elapsed time for matrix multiplication with PyTorch (GPU)\n",
    "start_time = time.time()\n",
    "\n",
    "rand = (torch_rand1 @ torch_rand2)\n",
    "\n",
    "end_time = time.time()\n",
    "\n",
    "elapsed_time = end_time - start_time\n",
    "print(f\"Elapsed Time with GPU (torch): {elapsed_time:.10f}\")"
   ]
  },
  {
   "cell_type": "code",
   "execution_count": 12,
   "metadata": {},
   "outputs": [
    {
     "name": "stdout",
     "output_type": "stream",
     "text": [
      "Elapsed Time with CPU (numpy): 0.1230676174\n",
      "CPU times: user 29.9 ms, sys: 94.2 ms, total: 124 ms\n",
      "Wall time: 123 ms\n"
     ]
    }
   ],
   "source": [
    "%%time\n",
    "# Measure the elapsed time for matrix multiplication with NumPy (CPU)\n",
    "start_time = time.time()\n",
    "\n",
    "rand = np.multiply(np_rand1, np_rand2)\n",
    "\n",
    "end_time = time.time()\n",
    "\n",
    "elapsed_time = end_time - start_time\n",
    "print(f\"Elapsed Time with CPU (numpy): {elapsed_time:.10f}\")\n",
    "\n"
   ]
  },
  {
   "cell_type": "code",
   "execution_count": 13,
   "metadata": {},
   "outputs": [],
   "source": [
    "# Create 4D tensors\n",
    "torch_rand1 = torch.rand(100, 100, 100, 100).to(device)\n",
    "torch_rand2 = torch.rand(100, 100, 100, 100).to(device)\n",
    "np_rand1 = torch.rand(100, 100, 100, 100)\n",
    "np_rand2 = torch.rand(100, 100, 100, 100)\n"
   ]
  },
  {
   "cell_type": "code",
   "execution_count": 14,
   "metadata": {},
   "outputs": [
    {
     "name": "stdout",
     "output_type": "stream",
     "text": [
      "Elapsed Time with GPU (torch): 0.0241825581\n",
      "CPU times: user 24.6 ms, sys: 0 ns, total: 24.6 ms\n",
      "Wall time: 24.5 ms\n"
     ]
    }
   ],
   "source": [
    "%%time\n",
    "# Measure the elapsed time for 4D matrix multiplication with PyTorch (GPU)\n",
    "start_time = time.time()\n",
    "\n",
    "rand = (torch_rand1 @ torch_rand2)\n",
    "\n",
    "end_time = time.time()\n",
    "\n",
    "elapsed_time = end_time - start_time\n",
    "print(f\"Elapsed Time with GPU (torch): {elapsed_time:.10f}\")"
   ]
  },
  {
   "cell_type": "code",
   "execution_count": 15,
   "metadata": {},
   "outputs": [
    {
     "name": "stdout",
     "output_type": "stream",
     "text": [
      "Elapsed Time with CPU (numpy): 0.0858514309\n",
      "CPU times: user 65.8 ms, sys: 21.7 ms, total: 87.5 ms\n",
      "Wall time: 86 ms\n"
     ]
    }
   ],
   "source": [
    "%%time\n",
    "# Measure the elapsed time for 4D matrix multiplication with NumPy (CPU)\n",
    "start_time = time.time()\n",
    "\n",
    "rand = np.multiply(np_rand1, np_rand2)\n",
    "\n",
    "end_time = time.time()\n",
    "\n",
    "elapsed_time = end_time - start_time\n",
    "print(f\"Elapsed Time with CPU (numpy): {elapsed_time:.10f}\")"
   ]
  },
  {
   "cell_type": "markdown",
   "metadata": {},
   "source": [
    "The following code uses PyTorch's multinomial function to draw 10 samples from a multinomial distribution defined by the probabilities tensor. The multinomial distribution is often used when there are multiple possible outcomes with different probabilities, and it returns the indices of the sampled outcomes. The samples tensor will contain 10 indices, each corresponding to a sampled outcome based on the given probabilities."
   ]
  },
  {
   "cell_type": "code",
   "execution_count": 16,
   "metadata": {},
   "outputs": [
    {
     "name": "stdout",
     "output_type": "stream",
     "text": [
      "tensor([1, 1, 1, 1, 1, 1, 1, 1, 1, 1])\n"
     ]
    }
   ],
   "source": [
    "# torch.stack, torch.multinomial, torch.trii, torch.triu, input.T / input.transpose, nn.linear, F.softmax\n",
    "\n",
    "# Define probability tensor\n",
    "# The tensor represents the probabilities of two outcomes: 0 with 10% probability and 1 with 90% probability.\n",
    "# 10% or 0.1 => 0, 90% or 0.9 => 1, each probability points to the index of the probability in the tensor\n",
    "probabilities = torch.tensor([0.1, 0.9])\n",
    "\n",
    "# Draw 10 samples from the multinomial distribution\n",
    "# The multinomial distribution is used to sample indices based on the provided probabilities.\n",
    "# 'num_samples' specifies the number of samples to draw, and 'replacement=True' allows repeated sampling.\n",
    "samples = torch.multinomial(probabilities, num_samples=10, replacement=True)\n",
    "print(samples)\n",
    "\n"
   ]
  },
  {
   "cell_type": "code",
   "execution_count": 17,
   "metadata": {},
   "outputs": [
    {
     "data": {
      "text/plain": [
       "tensor([1, 2, 3, 4, 5, 5])"
      ]
     },
     "execution_count": 17,
     "metadata": {},
     "output_type": "execute_result"
    }
   ],
   "source": [
    "# Define a tensor with values [1, 2, 3, 4, 5]\n",
    "tensor = torch.tensor([1, 2, 3, 4, 5])\n",
    "\n",
    "# Use torch.cat to concatenate the original tensor with another tensor containing the value 5\n",
    "# The 'dim=0' argument specifies that the concatenation should happen along the first dimension (rows).\n",
    "out = torch.cat((tensor, torch.tensor([5])), dim=0)\n",
    "out"
   ]
  },
  {
   "cell_type": "code",
   "execution_count": 18,
   "metadata": {},
   "outputs": [
    {
     "name": "stdout",
     "output_type": "stream",
     "text": [
      "tensor([[1., 0., 0., 0., 0.],\n",
      "        [1., 1., 0., 0., 0.],\n",
      "        [1., 1., 1., 0., 0.],\n",
      "        [1., 1., 1., 1., 0.],\n",
      "        [1., 1., 1., 1., 1.]])\n",
      "tensor([[1., 1., 1., 1., 1.],\n",
      "        [0., 1., 1., 1., 1.],\n",
      "        [0., 0., 1., 1., 1.],\n",
      "        [0., 0., 0., 1., 1.],\n",
      "        [0., 0., 0., 0., 1.]])\n"
     ]
    }
   ],
   "source": [
    "# Create a 5x5 matrix filled with ones\n",
    "matrix_ones = torch.ones(5, 5)\n",
    "\n",
    "# Use torch.tril to obtain a lower triangular matrix from the input matrix\n",
    "# torch.tril sets all elements above the main diagonal to zero, creating a lower triangular matrix.\n",
    "out = torch.tril(matrix_ones)\n",
    "print(out)\n",
    "\n",
    "# torch.triu sets all elements above the main diagonal to zero, creating a lower triangular matrix.\n",
    "out = torch.triu(matrix_ones)\n",
    "print(out)"
   ]
  },
  {
   "cell_type": "code",
   "execution_count": 19,
   "metadata": {},
   "outputs": [
    {
     "name": "stdout",
     "output_type": "stream",
     "text": [
      "tensor([[0., -inf, -inf, -inf, -inf],\n",
      "        [0., 0., -inf, -inf, -inf],\n",
      "        [0., 0., 0., -inf, -inf],\n",
      "        [0., 0., 0., 0., -inf],\n",
      "        [0., 0., 0., 0., 0.]])\n"
     ]
    }
   ],
   "source": [
    "# Create a 5x5 matrix filled with zeros\n",
    "zeros_matrix = torch.zeros(5, 5)\n",
    "\n",
    "# Create a lower triangular matrix with ones\n",
    "lower_triangular_ones = torch.tril(torch.ones(5, 5))\n",
    "\n",
    "# Use masked_fill to replace zeros in the zeros_matrix with negative infinity where lower_triangular_ones is zero\n",
    "# masked_fill replaces elements where the mask is True with the specified value (in this case, negative infinity).\n",
    "out = zeros_matrix.masked_fill(lower_triangular_ones == 0, float('-inf'))\n",
    "\n",
    "\n",
    "# Print the resulting matrix\n",
    "print(out)\n"
   ]
  },
  {
   "cell_type": "code",
   "execution_count": 20,
   "metadata": {},
   "outputs": [
    {
     "name": "stdout",
     "output_type": "stream",
     "text": [
      "tensor([[1., 0., 0., 0., 0.],\n",
      "        [1., 1., 0., 0., 0.],\n",
      "        [1., 1., 1., 0., 0.],\n",
      "        [1., 1., 1., 1., 0.],\n",
      "        [1., 1., 1., 1., 1.]])\n"
     ]
    }
   ],
   "source": [
    "# Print the exponential values of the tensor 'out'\n",
    "print(torch.exp(out))\n"
   ]
  },
  {
   "cell_type": "code",
   "execution_count": 21,
   "metadata": {},
   "outputs": [
    {
     "data": {
      "text/plain": [
       "tensor([[1, 2, 3],\n",
       "        [4, 5, 6],\n",
       "        [7, 8, 9]])"
      ]
     },
     "execution_count": 21,
     "metadata": {},
     "output_type": "execute_result"
    }
   ],
   "source": [
    "tensor1 = torch.tensor([1, 2, 3])\n",
    "tensor2 = torch.tensor([4, 5, 6])\n",
    "tensor3 = torch.tensor([7, 8, 9])\n",
    "\n",
    "# Stack the tensors along a new dimension\n",
    "stacked_tensor = torch.stack([tensor1, tensor2, tensor3])\n",
    "stacked_tensor"
   ]
  },
  {
   "cell_type": "code",
   "execution_count": 25,
   "metadata": {},
   "outputs": [
    {
     "name": "stdout",
     "output_type": "stream",
     "text": [
      "tensor([-0.7089, -3.2878, -0.8331], grad_fn=<SqueezeBackward4>)\n"
     ]
    }
   ],
   "source": [
    "# Import the PyTorch neural network module\n",
    "import torch.nn as nn\n",
    "\n",
    "# Create a tensor with values [10., 10., 10.]\n",
    "sample = torch.tensor([10., 10., 10.])\n",
    "\n",
    "# Create a linear layer with input size 3, output size 3, and no bias term (bias=False)\n",
    "linear = nn.Linear(3, 3, bias=False)\n",
    "\n",
    "# Apply the linear transformation to the input tensor 'sample'\n",
    "output = linear(sample)\n",
    "\n",
    "# Print the resulting tensor\n",
    "print(output)\n"
   ]
  },
  {
   "cell_type": "code",
   "execution_count": 28,
   "metadata": {},
   "outputs": [
    {
     "name": "stdout",
     "output_type": "stream",
     "text": [
      "tensor([0.0900, 0.2447, 0.6652])\n"
     ]
    }
   ],
   "source": [
    "# Import the PyTorch functional module\n",
    "import torch.nn.functional as F\n",
    "\n",
    "# Create a tensor [1.0, 2.0, 3.0]\n",
    "tensor1 = torch.tensor([1.0, 2.0, 3.0])\n",
    "\n",
    "# Apply the softmax function to the tensor along dimension 0\n",
    "softmax_output = F.softmax(tensor1, dim=0)\n",
    "# The softmax function is applied element-wise along the specified dimension (dim=0 in this case).\n",
    "\n",
    "# Print the resulting tensor after softmax\n",
    "print(softmax_output)"
   ]
  },
  {
   "cell_type": "code",
   "execution_count": 29,
   "metadata": {},
   "outputs": [
    {
     "name": "stdout",
     "output_type": "stream",
     "text": [
      "tensor([[-1.5163, -0.1229,  0.9176,  2.0541,  1.4191,  0.8168,  0.4307,  0.8136,\n",
      "          0.6583,  0.9182, -1.6876, -0.2422,  0.4874,  0.4802,  0.6036,  0.8348,\n",
      "         -0.6920, -0.2389,  0.1228,  0.4565,  0.9333,  1.9761,  0.7832, -0.7447,\n",
      "          0.5195,  2.0484, -0.4768,  1.2020,  1.9488, -1.9714,  0.0759,  0.1694,\n",
      "         -0.8946, -0.0329, -0.6312, -0.4724,  0.6246, -0.1703,  0.3183, -0.6580,\n",
      "         -1.8639,  0.1969, -0.7793, -0.8671,  2.3073,  0.2279,  0.9496, -1.1284,\n",
      "         -0.3375,  0.7736, -0.9793, -0.1009, -2.0326, -1.0071, -0.8934,  1.1508,\n",
      "          1.0250,  0.1693,  1.8175,  1.8592, -0.0086, -0.3111,  1.4064, -0.5730,\n",
      "          0.2898, -0.3062,  0.5688, -0.2987,  0.0876, -0.8802,  0.4868,  0.8665,\n",
      "          0.4608,  1.5224,  0.2675,  1.0817,  2.8044,  1.4003,  1.4749,  0.9351,\n",
      "         -0.9346,  1.2667,  0.9881,  0.1590, -0.2454, -1.4435,  1.8560,  0.8051,\n",
      "         -0.4424, -0.0830, -0.5607, -0.0228, -0.5861, -1.3285, -2.6009,  0.2883,\n",
      "         -2.2428, -0.8814, -0.1339,  1.1773],\n",
      "        [-0.1061,  0.0572,  0.5401, -2.5631,  0.5869, -0.1846, -0.6076, -2.0585,\n",
      "          0.7767,  0.8892, -0.8867, -0.1527,  2.9318, -0.3003, -2.2018, -0.0383,\n",
      "         -2.3644,  1.5690, -0.4884, -1.1884, -0.3482, -1.6099, -0.1562,  1.3106,\n",
      "          1.6035,  0.4504,  1.1831,  1.4880, -1.5788,  0.0324,  0.3148,  0.7446,\n",
      "          1.4424, -1.3602, -0.7885, -1.6009, -0.5410, -0.0113, -0.6013,  1.0843,\n",
      "          0.7599,  0.1877, -1.4109, -0.0787,  0.2849, -1.8171,  0.3727,  0.1153,\n",
      "          0.6364, -1.9016,  0.5148, -0.0608, -0.0324,  2.5880, -0.3837,  0.2031,\n",
      "          1.3576,  1.7460, -0.3889, -0.5565,  0.2340,  0.7822, -0.0673, -1.7506,\n",
      "         -0.1513, -0.4777,  0.3975, -0.3454, -0.9740,  1.1818, -1.2297, -0.3957,\n",
      "          0.4099,  1.1066,  0.1506, -2.0087,  0.3587,  0.5444,  0.3771,  0.3921,\n",
      "          0.6410, -0.9857,  0.7942,  0.9422,  0.0540, -0.1490, -0.1382,  0.1087,\n",
      "          2.1562,  0.2463,  0.5467, -0.1882,  1.0397, -0.1863, -1.1477, -1.0757,\n",
      "          1.9110, -0.2686, -0.5945,  0.3063],\n",
      "        [-0.6633,  0.3345, -0.3209,  0.7462,  1.5805, -0.8807, -0.4871,  0.0977,\n",
      "         -0.5501,  2.4497,  1.9495, -2.3679,  0.9434,  0.5700, -0.0198,  0.5977,\n",
      "          0.3432, -0.4914,  0.8866, -1.5379, -0.7495, -1.2368, -1.7020,  0.7108,\n",
      "          0.3628, -0.1877,  1.2117, -0.9469, -0.9015, -0.7801,  0.1184,  0.3420,\n",
      "          0.6833,  0.0546,  1.6044,  0.1921, -0.4930,  0.6600, -1.6048,  1.3953,\n",
      "          0.2345, -1.2437,  0.1382,  1.8532, -1.2698,  0.0151, -1.2361,  0.3191,\n",
      "         -1.2558,  0.2307, -0.3151, -1.1362, -0.5780,  1.5849,  1.8397,  0.9520,\n",
      "          0.4289, -0.7909, -0.5242, -0.6900,  0.9899, -0.6572, -1.7660,  0.1659,\n",
      "          0.2100, -0.6894, -3.2068,  0.1926,  0.1034,  0.2462,  0.6615, -0.2594,\n",
      "         -1.3061,  1.5169, -0.3594, -0.8565, -1.0267,  2.0730,  0.3396,  0.4075,\n",
      "         -1.3134, -1.0346,  0.6593,  0.1765,  0.3775,  1.9573, -0.3309,  0.5053,\n",
      "          0.7272,  1.8721, -1.3461,  0.5132, -2.0539,  0.6086,  0.2654,  0.2613,\n",
      "          0.0980, -0.4094,  0.2497, -0.8376],\n",
      "        [ 0.4925,  0.7605, -2.1485,  0.5924,  1.6166, -0.3280, -0.2565, -0.0094,\n",
      "          0.9321,  0.1604, -0.5285,  0.7676, -0.2527,  0.1994,  0.6351, -0.3694,\n",
      "         -0.4439,  3.0873,  0.9772, -0.5720, -1.3155,  0.9775,  0.7440, -1.4881,\n",
      "          0.2111, -0.6762,  1.5281, -0.1044, -0.8506, -1.6150,  1.1268,  0.7595,\n",
      "         -0.5638,  1.5565, -0.4567, -0.2077, -1.1770, -0.0875,  1.2385, -0.3576,\n",
      "         -0.2700, -0.0503,  0.2457, -1.4558,  0.0652, -0.9717,  1.5134,  1.0439,\n",
      "         -0.8497,  0.6777, -0.1149, -0.7967,  1.5377, -0.7776,  1.5104, -0.3052,\n",
      "          0.3114, -0.6757,  0.2244,  0.5673,  0.3822,  0.8899, -1.3958,  0.9827,\n",
      "          0.0531, -1.6506,  0.5525,  0.2539, -1.3885,  0.8018, -0.6284,  0.1735,\n",
      "          2.0804, -1.2718, -0.1176, -1.6394, -0.9518,  0.8557,  0.0330,  2.3648,\n",
      "         -2.1859, -0.9394, -0.1526, -0.0113,  0.2325, -0.8937,  0.3140,  0.0180,\n",
      "         -0.3826,  1.8380,  0.0987,  0.2352, -0.9815, -0.5408,  0.2650, -0.2393,\n",
      "         -0.8812, -0.1993, -0.1322, -0.0867]], grad_fn=<EmbeddingBackward0>)\n"
     ]
    }
   ],
   "source": [
    "# Initialize an embedding layer\n",
    "vocab_size = 10000\n",
    "embedding_dim = 100\n",
    "embedding = nn.Embedding(vocab_size, embedding_dim)\n",
    "\n",
    "# Create some input indices\n",
    "input_indices = torch.LongTensor([1, 5, 3, 2])\n",
    "\n",
    "# Apply the embedding layer\n",
    "embedded_output = embedding(input_indices)\n",
    "\n",
    "# The output will be a tensor of shape (4, 100) where 4 is the number of inputs\n",
    "# and 100 is the dimensionality of the embedding vectors\n",
    "print(embedded_output)"
   ]
  }
 ],
 "metadata": {
  "kernelspec": {
   "display_name": "llm-from-scratch",
   "language": "python",
   "name": "python3"
  },
  "language_info": {
   "codemirror_mode": {
    "name": "ipython",
    "version": 3
   },
   "file_extension": ".py",
   "mimetype": "text/x-python",
   "name": "python",
   "nbconvert_exporter": "python",
   "pygments_lexer": "ipython3",
   "version": "3.10.13"
  }
 },
 "nbformat": 4,
 "nbformat_minor": 2
}
