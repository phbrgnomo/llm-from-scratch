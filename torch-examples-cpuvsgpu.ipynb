{
 "cells": [
  {
   "cell_type": "markdown",
   "metadata": {},
   "source": [
    "This code compares the performance of matrix multiplication using PyTorch on the GPU and NumPy on the CPU. It also measures the time taken to create a small tensor of zeros. The @ symbol is used for matrix multiplication in PyTorch. The timings help demonstrate the potential speedup gained by utilizing a GPU for certain operations."
   ]
  },
  {
   "cell_type": "code",
   "execution_count": 8,
   "metadata": {},
   "outputs": [
    {
     "name": "stdout",
     "output_type": "stream",
     "text": [
      "selected device: privateuseone:0\n"
     ]
    }
   ],
   "source": [
    "import torch\n",
    "import torch_directml\n",
    "import numpy as np\n",
    "import time\n",
    "\n",
    "# Check if a GPU (cuda) is available, otherwise use Directl ML, or CPU\n",
    "if torch.cuda.is_available():\n",
    "    device = 'cuda'\n",
    "elif torch_directml.is_available():\n",
    "    device = torch_directml.device()\n",
    "else:\n",
    "    device = 'cpu'\n",
    "\n",
    "# Print the selected device (either 'cuda' or 'cpu')\n",
    "print(f\"selected device: {device}\")\n",
    "\n",
    "\n"
   ]
  },
  {
   "cell_type": "code",
   "execution_count": 9,
   "metadata": {},
   "outputs": [
    {
     "name": "stdout",
     "output_type": "stream",
     "text": [
      "Elapsed Time: 0.0001366138\n",
      "CPU times: user 80 µs, sys: 198 µs, total: 278 µs\n",
      "Wall time: 226 µs\n"
     ]
    }
   ],
   "source": [
    "%%time\n",
    "# Measure the elapsed time to create a small tensor with zeros\n",
    "start_time = time.time()\n",
    "# Matrix operation: creating a tensor of zeros\n",
    "zeros = torch.zeros(1, 1)\n",
    "end_time = time.time()\n",
    "\n",
    "elapsed_time = end_time - start_time\n",
    "print(f\"Elapsed Time: {elapsed_time:.10f}\")\n",
    "\n"
   ]
  },
  {
   "cell_type": "code",
   "execution_count": 10,
   "metadata": {},
   "outputs": [],
   "source": [
    "# Create 2D tensors\n",
    "torch_rand1 = torch.rand(10000, 10000).to(device)\n",
    "torch_rand2 = torch.rand(10000, 10000).to(device)\n",
    "np_rand1 = torch.rand(10000, 10000)\n",
    "np_rand2 = torch.rand(10000, 10000)\n",
    "\n"
   ]
  },
  {
   "cell_type": "code",
   "execution_count": 11,
   "metadata": {},
   "outputs": [
    {
     "name": "stdout",
     "output_type": "stream",
     "text": [
      "Elapsed Time with GPU (torch): 0.0153822899\n",
      "CPU times: user 0 ns, sys: 19.7 ms, total: 19.7 ms\n",
      "Wall time: 15.5 ms\n"
     ]
    }
   ],
   "source": [
    "%%time\n",
    "# Measure the elapsed time for matrix multiplication with PyTorch (GPU)\n",
    "start_time = time.time()\n",
    "\n",
    "rand = (torch_rand1 @ torch_rand2)\n",
    "\n",
    "end_time = time.time()\n",
    "\n",
    "elapsed_time = end_time - start_time\n",
    "print(f\"Elapsed Time with GPU (torch): {elapsed_time:.10f}\")"
   ]
  },
  {
   "cell_type": "code",
   "execution_count": 12,
   "metadata": {},
   "outputs": [
    {
     "name": "stdout",
     "output_type": "stream",
     "text": [
      "Elapsed Time with CPU (numpy): 0.1230676174\n",
      "CPU times: user 29.9 ms, sys: 94.2 ms, total: 124 ms\n",
      "Wall time: 123 ms\n"
     ]
    }
   ],
   "source": [
    "%%time\n",
    "# Measure the elapsed time for matrix multiplication with NumPy (CPU)\n",
    "start_time = time.time()\n",
    "\n",
    "rand = np.multiply(np_rand1, np_rand2)\n",
    "\n",
    "end_time = time.time()\n",
    "\n",
    "elapsed_time = end_time - start_time\n",
    "print(f\"Elapsed Time with CPU (numpy): {elapsed_time:.10f}\")\n",
    "\n"
   ]
  },
  {
   "cell_type": "code",
   "execution_count": 13,
   "metadata": {},
   "outputs": [],
   "source": [
    "# Create 4D tensors\n",
    "torch_rand1 = torch.rand(100, 100, 100, 100).to(device)\n",
    "torch_rand2 = torch.rand(100, 100, 100, 100).to(device)\n",
    "np_rand1 = torch.rand(100, 100, 100, 100)\n",
    "np_rand2 = torch.rand(100, 100, 100, 100)\n"
   ]
  },
  {
   "cell_type": "code",
   "execution_count": 14,
   "metadata": {},
   "outputs": [
    {
     "name": "stdout",
     "output_type": "stream",
     "text": [
      "Elapsed Time with GPU (torch): 0.0241825581\n",
      "CPU times: user 24.6 ms, sys: 0 ns, total: 24.6 ms\n",
      "Wall time: 24.5 ms\n"
     ]
    }
   ],
   "source": [
    "%%time\n",
    "# Measure the elapsed time for 4D matrix multiplication with PyTorch (GPU)\n",
    "start_time = time.time()\n",
    "\n",
    "rand = (torch_rand1 @ torch_rand2)\n",
    "\n",
    "end_time = time.time()\n",
    "\n",
    "elapsed_time = end_time - start_time\n",
    "print(f\"Elapsed Time with GPU (torch): {elapsed_time:.10f}\")"
   ]
  },
  {
   "cell_type": "code",
   "execution_count": 15,
   "metadata": {},
   "outputs": [
    {
     "name": "stdout",
     "output_type": "stream",
     "text": [
      "Elapsed Time with CPU (numpy): 0.0858514309\n",
      "CPU times: user 65.8 ms, sys: 21.7 ms, total: 87.5 ms\n",
      "Wall time: 86 ms\n"
     ]
    }
   ],
   "source": [
    "%%time\n",
    "# Measure the elapsed time for 4D matrix multiplication with NumPy (CPU)\n",
    "start_time = time.time()\n",
    "\n",
    "rand = np.multiply(np_rand1, np_rand2)\n",
    "\n",
    "end_time = time.time()\n",
    "\n",
    "elapsed_time = end_time - start_time\n",
    "print(f\"Elapsed Time with CPU (numpy): {elapsed_time:.10f}\")"
   ]
  },
  {
   "cell_type": "markdown",
   "metadata": {},
   "source": [
    "The following code uses PyTorch's multinomial function to draw 10 samples from a multinomial distribution defined by the probabilities tensor. The multinomial distribution is often used when there are multiple possible outcomes with different probabilities, and it returns the indices of the sampled outcomes. The samples tensor will contain 10 indices, each corresponding to a sampled outcome based on the given probabilities."
   ]
  },
  {
   "cell_type": "code",
   "execution_count": 16,
   "metadata": {},
   "outputs": [
    {
     "name": "stdout",
     "output_type": "stream",
     "text": [
      "tensor([1, 1, 1, 1, 1, 1, 1, 1, 1, 1])\n"
     ]
    }
   ],
   "source": [
    "# torch.stack, torch.multinomial, torch.trii, torch.triu, input.T / input.transpose, nn.linear, F.softmax\n",
    "\n",
    "# Define probability tensor\n",
    "# The tensor represents the probabilities of two outcomes: 0 with 10% probability and 1 with 90% probability.\n",
    "# 10% or 0.1 => 0, 90% or 0.9 => 1, each probability points to the index of the probability in the tensor\n",
    "probabilities = torch.tensor([0.1, 0.9])\n",
    "\n",
    "# Draw 10 samples from the multinomial distribution\n",
    "# The multinomial distribution is used to sample indices based on the provided probabilities.\n",
    "# 'num_samples' specifies the number of samples to draw, and 'replacement=True' allows repeated sampling.\n",
    "samples = torch.multinomial(probabilities, num_samples=10, replacement=True)\n",
    "print(samples)\n",
    "\n"
   ]
  },
  {
   "cell_type": "code",
   "execution_count": 17,
   "metadata": {},
   "outputs": [
    {
     "data": {
      "text/plain": [
       "tensor([1, 2, 3, 4, 5, 5])"
      ]
     },
     "execution_count": 17,
     "metadata": {},
     "output_type": "execute_result"
    }
   ],
   "source": [
    "# Define a tensor with values [1, 2, 3, 4, 5]\n",
    "tensor = torch.tensor([1, 2, 3, 4, 5])\n",
    "\n",
    "# Use torch.cat to concatenate the original tensor with another tensor containing the value 5\n",
    "# The 'dim=0' argument specifies that the concatenation should happen along the first dimension (rows).\n",
    "out = torch.cat((tensor, torch.tensor([5])), dim=0)\n",
    "out"
   ]
  },
  {
   "cell_type": "code",
   "execution_count": 18,
   "metadata": {},
   "outputs": [
    {
     "name": "stdout",
     "output_type": "stream",
     "text": [
      "tensor([[1., 0., 0., 0., 0.],\n",
      "        [1., 1., 0., 0., 0.],\n",
      "        [1., 1., 1., 0., 0.],\n",
      "        [1., 1., 1., 1., 0.],\n",
      "        [1., 1., 1., 1., 1.]])\n",
      "tensor([[1., 1., 1., 1., 1.],\n",
      "        [0., 1., 1., 1., 1.],\n",
      "        [0., 0., 1., 1., 1.],\n",
      "        [0., 0., 0., 1., 1.],\n",
      "        [0., 0., 0., 0., 1.]])\n"
     ]
    }
   ],
   "source": [
    "# Create a 5x5 matrix filled with ones\n",
    "matrix_ones = torch.ones(5, 5)\n",
    "\n",
    "# Use torch.tril to obtain a lower triangular matrix from the input matrix\n",
    "# torch.tril sets all elements above the main diagonal to zero, creating a lower triangular matrix.\n",
    "out = torch.tril(matrix_ones)\n",
    "print(out)\n",
    "\n",
    "# torch.triu sets all elements above the main diagonal to zero, creating a lower triangular matrix.\n",
    "out = torch.triu(matrix_ones)\n",
    "print(out)"
   ]
  },
  {
   "cell_type": "code",
   "execution_count": 19,
   "metadata": {},
   "outputs": [
    {
     "name": "stdout",
     "output_type": "stream",
     "text": [
      "tensor([[0., -inf, -inf, -inf, -inf],\n",
      "        [0., 0., -inf, -inf, -inf],\n",
      "        [0., 0., 0., -inf, -inf],\n",
      "        [0., 0., 0., 0., -inf],\n",
      "        [0., 0., 0., 0., 0.]])\n"
     ]
    }
   ],
   "source": [
    "# Create a 5x5 matrix filled with zeros\n",
    "zeros_matrix = torch.zeros(5, 5)\n",
    "\n",
    "# Create a lower triangular matrix with ones\n",
    "lower_triangular_ones = torch.tril(torch.ones(5, 5))\n",
    "\n",
    "# Use masked_fill to replace zeros in the zeros_matrix with negative infinity where lower_triangular_ones is zero\n",
    "# masked_fill replaces elements where the mask is True with the specified value (in this case, negative infinity).\n",
    "out = zeros_matrix.masked_fill(lower_triangular_ones == 0, float('-inf'))\n",
    "\n",
    "\n",
    "# Print the resulting matrix\n",
    "print(out)\n"
   ]
  },
  {
   "cell_type": "code",
   "execution_count": 20,
   "metadata": {},
   "outputs": [
    {
     "name": "stdout",
     "output_type": "stream",
     "text": [
      "tensor([[1., 0., 0., 0., 0.],\n",
      "        [1., 1., 0., 0., 0.],\n",
      "        [1., 1., 1., 0., 0.],\n",
      "        [1., 1., 1., 1., 0.],\n",
      "        [1., 1., 1., 1., 1.]])\n"
     ]
    }
   ],
   "source": [
    "# Print the exponential values of the tensor 'out'\n",
    "print(torch.exp(out))\n"
   ]
  },
  {
   "cell_type": "code",
   "execution_count": 21,
   "metadata": {},
   "outputs": [
    {
     "data": {
      "text/plain": [
       "tensor([[1, 2, 3],\n",
       "        [4, 5, 6],\n",
       "        [7, 8, 9]])"
      ]
     },
     "execution_count": 21,
     "metadata": {},
     "output_type": "execute_result"
    }
   ],
   "source": [
    "tensor1 = torch.tensor([1, 2, 3])\n",
    "tensor2 = torch.tensor([4, 5, 6])\n",
    "tensor3 = torch.tensor([7, 8, 9])\n",
    "\n",
    "# Stack the tensors along a new dimension\n",
    "stacked_tensor = torch.stack([tensor1, tensor2, tensor3])\n",
    "stacked_tensor"
   ]
  },
  {
   "cell_type": "code",
   "execution_count": 25,
   "metadata": {},
   "outputs": [
    {
     "name": "stdout",
     "output_type": "stream",
     "text": [
      "tensor([-0.7089, -3.2878, -0.8331], grad_fn=<SqueezeBackward4>)\n"
     ]
    }
   ],
   "source": [
    "# Import the PyTorch neural network module\n",
    "import torch.nn as nn\n",
    "\n",
    "# Create a tensor with values [10., 10., 10.]\n",
    "sample = torch.tensor([10., 10., 10.])\n",
    "\n",
    "# Create a linear layer with input size 3, output size 3, and no bias term (bias=False)\n",
    "linear = nn.Linear(3, 3, bias=False)\n",
    "\n",
    "# Apply the linear transformation to the input tensor 'sample'\n",
    "output = linear(sample)\n",
    "\n",
    "# Print the resulting tensor\n",
    "print(output)\n"
   ]
  }
 ],
 "metadata": {
  "kernelspec": {
   "display_name": "llm-from-scratch",
   "language": "python",
   "name": "python3"
  },
  "language_info": {
   "codemirror_mode": {
    "name": "ipython",
    "version": 3
   },
   "file_extension": ".py",
   "mimetype": "text/x-python",
   "name": "python",
   "nbconvert_exporter": "python",
   "pygments_lexer": "ipython3",
   "version": "3.10.13"
  }
 },
 "nbformat": 4,
 "nbformat_minor": 2
}
