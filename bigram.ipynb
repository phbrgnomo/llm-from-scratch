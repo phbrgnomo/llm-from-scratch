{
 "cells": [
  {
   "cell_type": "code",
   "execution_count": 17,
   "metadata": {},
   "outputs": [
    {
     "name": "stderr",
     "output_type": "stream",
     "text": [
      "ic| torch.cuda.is_available(): False\n"
     ]
    },
    {
     "name": "stdout",
     "output_type": "stream",
     "text": [
      "11.8\n",
      "cpu\n",
      "OpenCL is not available.\n"
     ]
    }
   ],
   "source": [
    "from icecream import ic\n",
    "\n",
    "import torch\n",
    "\n",
    "print(torch.version.cuda)\n",
    "\n",
    "device = 'cuda' if torch.cuda.is_available() else 'cpu'\n",
    "\n",
    "print(device)\n",
    "ic(torch.cuda.is_available())\n",
    "\n",
    "def is_opencl_available():\n",
    "    # Check if PyTorch has been built with OpenCL support\n",
    "    return torch.cuda.is_available() and 'opencl' in torch.cuda.get_device_capability()\n",
    "\n",
    "# Check if OpenCL is available\n",
    "if is_opencl_available():\n",
    "    print(\"OpenCL is available.\")\n",
    "else:\n",
    "    print(\"OpenCL is not available.\")\n"
   ]
  },
  {
   "cell_type": "code",
   "execution_count": 6,
   "metadata": {},
   "outputs": [
    {
     "name": "stderr",
     "output_type": "stream",
     "text": [
      "ic| len(text): 230469\n",
      "ic| text[:200]: ('\\ufeff\n",
      "                '\n",
      "                 '\n",
      "                '\n",
      "                 'Dorothy and the Wizard in Oz\n",
      "                '\n",
      "                 '\n",
      "                '\n",
      "                 '\n",
      "                '\n",
      "                 '  A Faithful Record of Their Amazing Adventures\n",
      "                '\n",
      "                 '    in an Underground World; and How with the\n",
      "                '\n",
      "                 '     Aid of Their Friends Zeb Hugson, Eureka\n",
      "                '\n",
      "                 '       the Kitten, and Jim ')\n",
      "ic| chars: ['\n",
      "           ',\n",
      "            ' ',\n",
      "            '!',\n",
      "            '\"',\n",
      "            '&',\n",
      "            \"'\",\n",
      "            '(',\n",
      "            ')',\n",
      "            ',',\n",
      "            '-',\n",
      "            '.',\n",
      "            '0',\n",
      "            '1',\n",
      "            '2',\n",
      "            '3',\n",
      "            '4',\n",
      "            '5',\n",
      "            '6',\n",
      "            '7',\n",
      "            '8',\n",
      "            '9',\n",
      "            ':',\n",
      "            ';',\n",
      "            '?',\n",
      "            'A',\n",
      "            'B',\n",
      "            'C',\n",
      "            'D',\n",
      "            'E',\n",
      "            'F',\n",
      "            'G',\n",
      "            'H',\n",
      "            'I',\n",
      "            'J',\n",
      "            'K',\n",
      "            'L',\n",
      "            'M',\n",
      "            'N',\n",
      "            'O',\n",
      "            'P',\n",
      "            'Q',\n",
      "            'R',\n",
      "            'S',\n",
      "            'T',\n",
      "            'U',\n",
      "            'V',\n",
      "            'W',\n",
      "            'Y',\n",
      "            'Z',\n",
      "            'a',\n",
      "            'b',\n",
      "            'c',\n",
      "            'd',\n",
      "            'e',\n",
      "            'f',\n",
      "            'g',\n",
      "            'h',\n",
      "            'i',\n",
      "            'j',\n",
      "            'k',\n",
      "            'l',\n",
      "            'm',\n",
      "            'n',\n",
      "            'o',\n",
      "            'p',\n",
      "            'q',\n",
      "            'r',\n",
      "            's',\n",
      "            't',\n",
      "            'u',\n",
      "            'v',\n",
      "            'w',\n",
      "            'x',\n",
      "            'y',\n",
      "            'z',\n",
      "            '\\ufeff']\n",
      "ic| len(chars): 76\n"
     ]
    }
   ],
   "source": [
    "with open('pg420.txt', 'r', encoding='utf-8') as f:\n",
    "    text = f.read()\n",
    "\n",
    "# Checking file contents\n",
    "ic(len(text))\n",
    "ic(text[:200])\n",
    "chars = sorted(set(text))\n",
    "ic(chars)\n",
    "ic(len(chars))\n",
    "vocabulary_size = len(chars)"
   ]
  },
  {
   "cell_type": "code",
   "execution_count": 11,
   "metadata": {},
   "outputs": [
    {
     "name": "stderr",
     "output_type": "stream",
     "text": [
      "ic| encode('hello'): [56, 53, 60, 60, 63]\n",
      "ic| decoded_hello: 'hello'\n"
     ]
    },
    {
     "name": "stdout",
     "output_type": "stream",
     "text": [
      "tensor([75,  0,  0, 27, 63, 66, 63, 68, 56, 73,  1, 49, 62, 52,  1, 68, 56, 53,\n",
      "         1, 46, 57, 74, 49, 66, 52,  1, 57, 62,  1, 38, 74,  0,  0,  0,  1,  1,\n",
      "        24,  1, 29, 49, 57, 68, 56, 54, 69, 60,  1, 41, 53, 51, 63, 66, 52,  1,\n",
      "        63, 54,  1, 43, 56, 53, 57, 66,  1, 24, 61, 49, 74, 57, 62, 55,  1, 24,\n",
      "        52, 70, 53, 62, 68, 69, 66, 53, 67,  0,  1,  1,  1,  1, 57, 62,  1, 49,\n",
      "        62,  1, 44, 62, 52, 53, 66, 55, 66, 63])\n"
     ]
    }
   ],
   "source": [
    "# Tokenizer\n",
    "\n",
    "string_to_int = { ch:i for i,ch in enumerate(chars) }\n",
    "int_to_string = { i:ch for i,ch in enumerate(chars) }\n",
    "encode = lambda s: [string_to_int[c] for c in s]\n",
    "decode = lambda l: ''.join([int_to_string[i] for i in l])\n",
    "\n",
    "ic(encode('hello'))\n",
    "encoded_hello = encode('hello')\n",
    "decoded_hello = decode(encoded_hello)\n",
    "ic(decoded_hello)\n",
    "\n",
    "data = torch.tensor(encode(text), dtype=torch.long)\n",
    "print(data[:100])"
   ]
  },
  {
   "cell_type": "code",
   "execution_count": 8,
   "metadata": {},
   "outputs": [],
   "source": [
    "# Select data to Train/Validate\n",
    "\n",
    "# Select 80% of the data to train\n",
    "n = int(0.8*len(data))\n",
    "train_data = data[:n]\n",
    "# Validate the model with the remaining 20%\n",
    "val_data = data[n:]\n"
   ]
  },
  {
   "cell_type": "code",
   "execution_count": 10,
   "metadata": {},
   "outputs": [
    {
     "name": "stdout",
     "output_type": "stream",
     "text": [
      "when inpuyt is tensor([75]) target is tensor(0)\n",
      "when inpuyt is tensor([75,  0]) target is tensor(0)\n",
      "when inpuyt is tensor([75,  0,  0]) target is tensor(27)\n",
      "when inpuyt is tensor([75,  0,  0, 27]) target is tensor(63)\n",
      "when inpuyt is tensor([75,  0,  0, 27, 63]) target is tensor(66)\n",
      "when inpuyt is tensor([75,  0,  0, 27, 63, 66]) target is tensor(63)\n",
      "when inpuyt is tensor([75,  0,  0, 27, 63, 66, 63]) target is tensor(68)\n",
      "when inpuyt is tensor([75,  0,  0, 27, 63, 66, 63, 68]) target is tensor(56)\n"
     ]
    }
   ],
   "source": [
    "# Train the model\n",
    "\n",
    "block_size = 8\n",
    "\n",
    "# Break the data in blocks\n",
    "x = train_data[:block_size]\n",
    "y = train_data[1:block_size+1]\n",
    "\n",
    "for t in range(block_size):\n",
    "    context = x[:t+1]\n",
    "    target = y[t]\n",
    "    print('when input is', context, 'target is', target)"
   ]
  }
 ],
 "metadata": {
  "kernelspec": {
   "display_name": "cuda-gpt",
   "language": "python",
   "name": "llm-from-scratch"
  },
  "language_info": {
   "codemirror_mode": {
    "name": "ipython",
    "version": 3
   },
   "file_extension": ".py",
   "mimetype": "text/x-python",
   "name": "python",
   "nbconvert_exporter": "python",
   "pygments_lexer": "ipython3",
   "version": "3.11.5"
  }
 },
 "nbformat": 4,
 "nbformat_minor": 4
}
