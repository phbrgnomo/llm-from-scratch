{
 "cells": [
  {
   "cell_type": "code",
   "execution_count": 7,
   "metadata": {},
   "outputs": [
    {
     "name": "stdout",
     "output_type": "stream",
     "text": [
      "11.7\n",
      "privateuseone:0\n",
      "1\n",
      "selected device: cpu\n"
     ]
    }
   ],
   "source": [
    "# Import the PyTorch library\n",
    "import torch\n",
    "import torch_directml # This uses pytorch with DirectML (For AMD GPU)\n",
    "\n",
    "\n",
    "# Print the version of CUDA (Compute Unified Device Architecture), which is a parallel computing platform and application programming interface model created by Nvidia\n",
    "print(torch.version.cuda)\n",
    "\n",
    "# Sets dml as the DirectML device\n",
    "dml = torch_directml.device()\n",
    "print(dml)\n",
    "\n",
    "# \n",
    "print(torch_directml.device_count())\n",
    "\n",
    "# Check if a GPU (cuda) is available, otherwise use CPU\n",
    "device = 'cuda' if torch.cuda.is_available() else 'cpu'\n",
    "\n",
    "# Print the selected device (either 'cuda' or 'cpu')\n",
    "print(f\"selected device: {device}\")\n",
    "\n",
    "block_size = 8\n",
    "batch_size = 4\n"
   ]
  },
  {
   "cell_type": "code",
   "execution_count": 8,
   "metadata": {},
   "outputs": [
    {
     "name": "stdout",
     "output_type": "stream",
     "text": [
      "230469\n",
      "﻿\n",
      "\n",
      "Dorothy and the Wizard in Oz\n",
      "\n",
      "\n",
      "  A Faithful Record of Their Amazing Adventures\n",
      "    in an Underground World; and How with the\n",
      "     Aid of Their Friends Zeb Hugson, Eureka\n",
      "       the Kitten, and Jim \n",
      "['\\n', ' ', '!', '\"', '&', \"'\", '(', ')', ',', '-', '.', '0', '1', '2', '3', '4', '5', '6', '7', '8', '9', ':', ';', '?', 'A', 'B', 'C', 'D', 'E', 'F', 'G', 'H', 'I', 'J', 'K', 'L', 'M', 'N', 'O', 'P', 'Q', 'R', 'S', 'T', 'U', 'V', 'W', 'Y', 'Z', 'a', 'b', 'c', 'd', 'e', 'f', 'g', 'h', 'i', 'j', 'k', 'l', 'm', 'n', 'o', 'p', 'q', 'r', 's', 't', 'u', 'v', 'w', 'x', 'y', 'z', '\\ufeff']\n",
      "76\n"
     ]
    }
   ],
   "source": [
    "with open('pg420.txt', 'r', encoding='utf-8') as f:\n",
    "    text = f.read()\n",
    "\n",
    "# Checking file contents\n",
    "print(len(text))\n",
    "print(text[:200])\n",
    "chars = sorted(set(text))\n",
    "print(chars)\n",
    "print(len(chars))\n",
    "vocabulary_size = len(chars)"
   ]
  },
  {
   "cell_type": "code",
   "execution_count": 9,
   "metadata": {},
   "outputs": [
    {
     "name": "stdout",
     "output_type": "stream",
     "text": [
      "[56, 53, 60, 60, 63]\n",
      "hello\n",
      "tensor([75,  0,  0, 27, 63, 66, 63, 68, 56, 73,  1, 49, 62, 52,  1, 68, 56, 53,\n",
      "         1, 46, 57, 74, 49, 66, 52,  1, 57, 62,  1, 38, 74,  0,  0,  0,  1,  1,\n",
      "        24,  1, 29, 49, 57, 68, 56, 54, 69, 60,  1, 41, 53, 51, 63, 66, 52,  1,\n",
      "        63, 54,  1, 43, 56, 53, 57, 66,  1, 24, 61, 49, 74, 57, 62, 55,  1, 24,\n",
      "        52, 70, 53, 62, 68, 69, 66, 53, 67,  0,  1,  1,  1,  1, 57, 62,  1, 49,\n",
      "        62,  1, 44, 62, 52, 53, 66, 55, 66, 63])\n"
     ]
    }
   ],
   "source": [
    "# Tokenizer\n",
    "\n",
    "string_to_int = { ch:i for i,ch in enumerate(chars) }\n",
    "int_to_string = { i:ch for i,ch in enumerate(chars) }\n",
    "encode = lambda s: [string_to_int[c] for c in s]\n",
    "decode = lambda l: ''.join([int_to_string[i] for i in l])\n",
    "\n",
    "print(encode('hello'))\n",
    "encoded_hello = encode('hello')\n",
    "decoded_hello = decode(encoded_hello)\n",
    "print(decoded_hello)\n",
    "\n",
    "data = torch.tensor(encode(text), dtype=torch.long)\n",
    "print(data[:100])"
   ]
  },
  {
   "cell_type": "code",
   "execution_count": 10,
   "metadata": {},
   "outputs": [],
   "source": [
    "# Select data to Train/Validate\n",
    "\n",
    "# Select 80% of the data to train\n",
    "n = int(0.8*len(data))\n",
    "train_data = data[:n]\n",
    "# Validate the model with the remaining 20%\n",
    "val_data = data[n:]\n"
   ]
  },
  {
   "cell_type": "code",
   "execution_count": 11,
   "metadata": {},
   "outputs": [
    {
     "name": "stdout",
     "output_type": "stream",
     "text": [
      "when input is tensor([75]) target is tensor(0)\n",
      "when input is tensor([75,  0]) target is tensor(0)\n",
      "when input is tensor([75,  0,  0]) target is tensor(27)\n",
      "when input is tensor([75,  0,  0, 27]) target is tensor(63)\n",
      "when input is tensor([75,  0,  0, 27, 63]) target is tensor(66)\n",
      "when input is tensor([75,  0,  0, 27, 63, 66]) target is tensor(63)\n",
      "when input is tensor([75,  0,  0, 27, 63, 66, 63]) target is tensor(68)\n",
      "when input is tensor([75,  0,  0, 27, 63, 66, 63, 68]) target is tensor(56)\n"
     ]
    }
   ],
   "source": [
    "# Train the model\n",
    "\n",
    "# Break the data in blocks\n",
    "x = train_data[:block_size]\n",
    "y = train_data[1:block_size+1]\n",
    "\n",
    "for t in range(block_size):\n",
    "    context = x[:t+1]\n",
    "    target = y[t]\n",
    "    print('when input is', context, 'target is', target)"
   ]
  }
 ],
 "metadata": {
  "kernelspec": {
   "display_name": "Python 3",
   "language": "python",
   "name": "python3"
  },
  "language_info": {
   "codemirror_mode": {
    "name": "ipython",
    "version": 3
   },
   "file_extension": ".py",
   "mimetype": "text/x-python",
   "name": "python",
   "nbconvert_exporter": "python",
   "pygments_lexer": "ipython3",
   "version": "3.1.0"
  }
 },
 "nbformat": 4,
 "nbformat_minor": 4
}
